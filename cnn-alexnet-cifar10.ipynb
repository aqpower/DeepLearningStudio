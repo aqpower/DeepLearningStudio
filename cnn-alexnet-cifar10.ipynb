{
 "cells": [
  {
   "cell_type": "markdown",
   "metadata": {
    "colab_type": "text",
    "id": "UEBilEjLj5wY"
   },
   "source": [
    "Deep Learning Models -- A collection of various deep learning architectures, models, and tips for TensorFlow and PyTorch in Jupyter Notebooks.\n",
    "- Author: Sebastian Raschka\n",
    "- GitHub Repository: https://github.com/rasbt/deeplearning-models\n",
    "\n",
    "---"
   ]
  },
  {
   "cell_type": "code",
   "execution_count": 1,
   "metadata": {
    "colab": {
     "autoexec": {
      "startup": false,
      "wait_interval": 0
     },
     "base_uri": "https://localhost:8080/",
     "height": 119
    },
    "colab_type": "code",
    "executionInfo": {
     "elapsed": 536,
     "status": "ok",
     "timestamp": 1524974472601,
     "user": {
      "displayName": "Sebastian Raschka",
      "photoUrl": "//lh6.googleusercontent.com/-cxK6yOSQ6uE/AAAAAAAAAAI/AAAAAAAAIfw/P9ar_CHsKOQ/s50-c-k-no/photo.jpg",
      "userId": "118404394130788869227"
     },
     "user_tz": 240
    },
    "id": "GOzuY8Yvj5wb",
    "outputId": "c19362ce-f87a-4cc2-84cc-8d7b4b9e6007"
   },
   "outputs": [
    {
     "ename": "ModuleNotFoundError",
     "evalue": "No module named 'watermark'",
     "output_type": "error",
     "traceback": [
      "\u001b[0;31m---------------------------------------------------------------------------\u001b[0m",
      "\u001b[0;31mModuleNotFoundError\u001b[0m                       Traceback (most recent call last)",
      "Cell \u001b[0;32mIn[1], line 1\u001b[0m\n\u001b[0;32m----> 1\u001b[0m \u001b[43mget_ipython\u001b[49m\u001b[43m(\u001b[49m\u001b[43m)\u001b[49m\u001b[38;5;241;43m.\u001b[39;49m\u001b[43mrun_line_magic\u001b[49m\u001b[43m(\u001b[49m\u001b[38;5;124;43m'\u001b[39;49m\u001b[38;5;124;43mload_ext\u001b[39;49m\u001b[38;5;124;43m'\u001b[39;49m\u001b[43m,\u001b[49m\u001b[43m \u001b[49m\u001b[38;5;124;43m'\u001b[39;49m\u001b[38;5;124;43mwatermark\u001b[39;49m\u001b[38;5;124;43m'\u001b[39;49m\u001b[43m)\u001b[49m\n\u001b[1;32m      2\u001b[0m get_ipython()\u001b[38;5;241m.\u001b[39mrun_line_magic(\u001b[38;5;124m'\u001b[39m\u001b[38;5;124mwatermark\u001b[39m\u001b[38;5;124m'\u001b[39m, \u001b[38;5;124m\"\u001b[39m\u001b[38;5;124m-a \u001b[39m\u001b[38;5;124m'\u001b[39m\u001b[38;5;124mSebastian Raschka\u001b[39m\u001b[38;5;124m'\u001b[39m\u001b[38;5;124m -v -p torch\u001b[39m\u001b[38;5;124m\"\u001b[39m)\n",
      "File \u001b[0;32m~/anaconda3/envs/pytorch/lib/python3.11/site-packages/IPython/core/interactiveshell.py:2432\u001b[0m, in \u001b[0;36mInteractiveShell.run_line_magic\u001b[0;34m(self, magic_name, line, _stack_depth)\u001b[0m\n\u001b[1;32m   2430\u001b[0m     kwargs[\u001b[38;5;124m'\u001b[39m\u001b[38;5;124mlocal_ns\u001b[39m\u001b[38;5;124m'\u001b[39m] \u001b[38;5;241m=\u001b[39m \u001b[38;5;28mself\u001b[39m\u001b[38;5;241m.\u001b[39mget_local_scope(stack_depth)\n\u001b[1;32m   2431\u001b[0m \u001b[38;5;28;01mwith\u001b[39;00m \u001b[38;5;28mself\u001b[39m\u001b[38;5;241m.\u001b[39mbuiltin_trap:\n\u001b[0;32m-> 2432\u001b[0m     result \u001b[38;5;241m=\u001b[39m \u001b[43mfn\u001b[49m\u001b[43m(\u001b[49m\u001b[38;5;241;43m*\u001b[39;49m\u001b[43margs\u001b[49m\u001b[43m,\u001b[49m\u001b[43m \u001b[49m\u001b[38;5;241;43m*\u001b[39;49m\u001b[38;5;241;43m*\u001b[39;49m\u001b[43mkwargs\u001b[49m\u001b[43m)\u001b[49m\n\u001b[1;32m   2434\u001b[0m \u001b[38;5;66;03m# The code below prevents the output from being displayed\u001b[39;00m\n\u001b[1;32m   2435\u001b[0m \u001b[38;5;66;03m# when using magics with decorator @output_can_be_silenced\u001b[39;00m\n\u001b[1;32m   2436\u001b[0m \u001b[38;5;66;03m# when the last Python token in the expression is a ';'.\u001b[39;00m\n\u001b[1;32m   2437\u001b[0m \u001b[38;5;28;01mif\u001b[39;00m \u001b[38;5;28mgetattr\u001b[39m(fn, magic\u001b[38;5;241m.\u001b[39mMAGIC_OUTPUT_CAN_BE_SILENCED, \u001b[38;5;28;01mFalse\u001b[39;00m):\n",
      "File \u001b[0;32m~/anaconda3/envs/pytorch/lib/python3.11/site-packages/IPython/core/magics/extension.py:33\u001b[0m, in \u001b[0;36mExtensionMagics.load_ext\u001b[0;34m(self, module_str)\u001b[0m\n\u001b[1;32m     31\u001b[0m \u001b[38;5;28;01mif\u001b[39;00m \u001b[38;5;129;01mnot\u001b[39;00m module_str:\n\u001b[1;32m     32\u001b[0m     \u001b[38;5;28;01mraise\u001b[39;00m UsageError(\u001b[38;5;124m'\u001b[39m\u001b[38;5;124mMissing module name.\u001b[39m\u001b[38;5;124m'\u001b[39m)\n\u001b[0;32m---> 33\u001b[0m res \u001b[38;5;241m=\u001b[39m \u001b[38;5;28;43mself\u001b[39;49m\u001b[38;5;241;43m.\u001b[39;49m\u001b[43mshell\u001b[49m\u001b[38;5;241;43m.\u001b[39;49m\u001b[43mextension_manager\u001b[49m\u001b[38;5;241;43m.\u001b[39;49m\u001b[43mload_extension\u001b[49m\u001b[43m(\u001b[49m\u001b[43mmodule_str\u001b[49m\u001b[43m)\u001b[49m\n\u001b[1;32m     35\u001b[0m \u001b[38;5;28;01mif\u001b[39;00m res \u001b[38;5;241m==\u001b[39m \u001b[38;5;124m'\u001b[39m\u001b[38;5;124malready loaded\u001b[39m\u001b[38;5;124m'\u001b[39m:\n\u001b[1;32m     36\u001b[0m     \u001b[38;5;28mprint\u001b[39m(\u001b[38;5;124m\"\u001b[39m\u001b[38;5;124mThe \u001b[39m\u001b[38;5;132;01m%s\u001b[39;00m\u001b[38;5;124m extension is already loaded. To reload it, use:\u001b[39m\u001b[38;5;124m\"\u001b[39m \u001b[38;5;241m%\u001b[39m module_str)\n",
      "File \u001b[0;32m~/anaconda3/envs/pytorch/lib/python3.11/site-packages/IPython/core/extensions.py:76\u001b[0m, in \u001b[0;36mExtensionManager.load_extension\u001b[0;34m(self, module_str)\u001b[0m\n\u001b[1;32m     69\u001b[0m \u001b[38;5;250m\u001b[39m\u001b[38;5;124;03m\"\"\"Load an IPython extension by its module name.\u001b[39;00m\n\u001b[1;32m     70\u001b[0m \n\u001b[1;32m     71\u001b[0m \u001b[38;5;124;03mReturns the string \"already loaded\" if the extension is already loaded,\u001b[39;00m\n\u001b[1;32m     72\u001b[0m \u001b[38;5;124;03m\"no load function\" if the module doesn't have a load_ipython_extension\u001b[39;00m\n\u001b[1;32m     73\u001b[0m \u001b[38;5;124;03mfunction, or None if it succeeded.\u001b[39;00m\n\u001b[1;32m     74\u001b[0m \u001b[38;5;124;03m\"\"\"\u001b[39;00m\n\u001b[1;32m     75\u001b[0m \u001b[38;5;28;01mtry\u001b[39;00m:\n\u001b[0;32m---> 76\u001b[0m     \u001b[38;5;28;01mreturn\u001b[39;00m \u001b[38;5;28;43mself\u001b[39;49m\u001b[38;5;241;43m.\u001b[39;49m\u001b[43m_load_extension\u001b[49m\u001b[43m(\u001b[49m\u001b[43mmodule_str\u001b[49m\u001b[43m)\u001b[49m\n\u001b[1;32m     77\u001b[0m \u001b[38;5;28;01mexcept\u001b[39;00m \u001b[38;5;167;01mModuleNotFoundError\u001b[39;00m:\n\u001b[1;32m     78\u001b[0m     \u001b[38;5;28;01mif\u001b[39;00m module_str \u001b[38;5;129;01min\u001b[39;00m BUILTINS_EXTS:\n",
      "File \u001b[0;32m~/anaconda3/envs/pytorch/lib/python3.11/site-packages/IPython/core/extensions.py:91\u001b[0m, in \u001b[0;36mExtensionManager._load_extension\u001b[0;34m(self, module_str)\u001b[0m\n\u001b[1;32m     89\u001b[0m \u001b[38;5;28;01mwith\u001b[39;00m \u001b[38;5;28mself\u001b[39m\u001b[38;5;241m.\u001b[39mshell\u001b[38;5;241m.\u001b[39mbuiltin_trap:\n\u001b[1;32m     90\u001b[0m     \u001b[38;5;28;01mif\u001b[39;00m module_str \u001b[38;5;129;01mnot\u001b[39;00m \u001b[38;5;129;01min\u001b[39;00m sys\u001b[38;5;241m.\u001b[39mmodules:\n\u001b[0;32m---> 91\u001b[0m         mod \u001b[38;5;241m=\u001b[39m \u001b[43mimport_module\u001b[49m\u001b[43m(\u001b[49m\u001b[43mmodule_str\u001b[49m\u001b[43m)\u001b[49m\n\u001b[1;32m     92\u001b[0m     mod \u001b[38;5;241m=\u001b[39m sys\u001b[38;5;241m.\u001b[39mmodules[module_str]\n\u001b[1;32m     93\u001b[0m     \u001b[38;5;28;01mif\u001b[39;00m \u001b[38;5;28mself\u001b[39m\u001b[38;5;241m.\u001b[39m_call_load_ipython_extension(mod):\n",
      "File \u001b[0;32m~/anaconda3/envs/pytorch/lib/python3.11/importlib/__init__.py:126\u001b[0m, in \u001b[0;36mimport_module\u001b[0;34m(name, package)\u001b[0m\n\u001b[1;32m    124\u001b[0m             \u001b[38;5;28;01mbreak\u001b[39;00m\n\u001b[1;32m    125\u001b[0m         level \u001b[38;5;241m+\u001b[39m\u001b[38;5;241m=\u001b[39m \u001b[38;5;241m1\u001b[39m\n\u001b[0;32m--> 126\u001b[0m \u001b[38;5;28;01mreturn\u001b[39;00m \u001b[43m_bootstrap\u001b[49m\u001b[38;5;241;43m.\u001b[39;49m\u001b[43m_gcd_import\u001b[49m\u001b[43m(\u001b[49m\u001b[43mname\u001b[49m\u001b[43m[\u001b[49m\u001b[43mlevel\u001b[49m\u001b[43m:\u001b[49m\u001b[43m]\u001b[49m\u001b[43m,\u001b[49m\u001b[43m \u001b[49m\u001b[43mpackage\u001b[49m\u001b[43m,\u001b[49m\u001b[43m \u001b[49m\u001b[43mlevel\u001b[49m\u001b[43m)\u001b[49m\n",
      "File \u001b[0;32m<frozen importlib._bootstrap>:1206\u001b[0m, in \u001b[0;36m_gcd_import\u001b[0;34m(name, package, level)\u001b[0m\n",
      "File \u001b[0;32m<frozen importlib._bootstrap>:1178\u001b[0m, in \u001b[0;36m_find_and_load\u001b[0;34m(name, import_)\u001b[0m\n",
      "File \u001b[0;32m<frozen importlib._bootstrap>:1142\u001b[0m, in \u001b[0;36m_find_and_load_unlocked\u001b[0;34m(name, import_)\u001b[0m\n",
      "\u001b[0;31mModuleNotFoundError\u001b[0m: No module named 'watermark'"
     ]
    }
   ],
   "source": [
    "%load_ext watermark\n",
    "%watermark -a 'Sebastian Raschka' -v -p torch"
   ]
  },
  {
   "cell_type": "markdown",
   "metadata": {
    "colab_type": "text",
    "id": "rH4XmErYj5wm"
   },
   "source": [
    "# AlexNet CIFAR-10 Classifier"
   ]
  },
  {
   "cell_type": "markdown",
   "metadata": {},
   "source": [
    "### Network Architecture"
   ]
  },
  {
   "cell_type": "markdown",
   "metadata": {},
   "source": [
    "References\n",
    "    \n",
    "- [1] Krizhevsky, Alex, Ilya Sutskever, and Geoffrey E. Hinton. \"[Imagenet classification with deep convolutional neural networks.](https://papers.nips.cc/paper/4824-imagenet-classification-with-deep-convolutional-neural-networks.pdf)\" In Advances in Neural Information Processing Systems, pp. 1097-1105. 2012.\n"
   ]
  },
  {
   "cell_type": "markdown",
   "metadata": {
    "colab_type": "text",
    "id": "MkoGLH_Tj5wn"
   },
   "source": [
    "## Imports"
   ]
  },
  {
   "cell_type": "code",
   "execution_count": 2,
   "metadata": {
    "colab": {
     "autoexec": {
      "startup": false,
      "wait_interval": 0
     }
    },
    "colab_type": "code",
    "id": "ORj09gnrj5wp"
   },
   "outputs": [],
   "source": [
    "import os\n",
    "import time\n",
    "import random\n",
    "\n",
    "import numpy as np\n",
    "import pandas as pd\n",
    "\n",
    "import torch\n",
    "import torch.nn as nn\n",
    "import torch.nn.functional as F\n",
    "from torch.utils.data import DataLoader\n",
    "from torch.utils.data.dataset import Subset\n",
    "\n",
    "from torchvision import datasets\n",
    "from torchvision import transforms\n",
    "\n",
    "import matplotlib.pyplot as plt\n",
    "from PIL import Image\n",
    "\n",
    "\n",
    "if torch.cuda.is_available():\n",
    "    torch.backends.cudnn.deterministic = True"
   ]
  },
  {
   "cell_type": "markdown",
   "metadata": {
    "colab_type": "text",
    "id": "I6hghKPxj5w0"
   },
   "source": [
    "## Model Settings"
   ]
  },
  {
   "cell_type": "markdown",
   "metadata": {},
   "source": [
    "#### Setting a random seed"
   ]
  },
  {
   "cell_type": "markdown",
   "metadata": {},
   "source": [
    "I recommend using a function like the following one prior to using dataset loaders and initializing a model if you want to ensure the data is shuffled in the same manner if you rerun this notebook and the model gets the same initial random weights:"
   ]
  },
  {
   "cell_type": "code",
   "execution_count": 4,
   "metadata": {},
   "outputs": [],
   "source": [
    "def set_all_seeds(seed):\n",
    "    os.environ[\"PL_GLOBAL_SEED\"] = str(seed)\n",
    "    random.seed(seed)\n",
    "    np.random.seed(seed)\n",
    "    torch.manual_seed(seed)\n",
    "    torch.cuda.manual_seed_all(seed)"
   ]
  },
  {
   "cell_type": "markdown",
   "metadata": {},
   "source": [
    "#### Setting cuDNN and PyTorch algorithmic behavior to deterministic"
   ]
  },
  {
   "cell_type": "markdown",
   "metadata": {},
   "source": [
    "Similar to the `set_all_seeds` function above, I recommend setting the behavior of PyTorch and cuDNN to deterministic (this is particulary relevant when using GPUs). We can also define a function for that:"
   ]
  },
  {
   "cell_type": "code",
   "execution_count": 5,
   "metadata": {},
   "outputs": [],
   "source": [
    "def set_deterministic():\n",
    "    if torch.cuda.is_available():\n",
    "        torch.backends.cudnn.benchmark = False\n",
    "        torch.backends.cudnn.deterministic = True\n",
    "    torch.set_deterministic(True)"
   ]
  },
  {
   "cell_type": "code",
   "execution_count": 6,
   "metadata": {
    "colab": {
     "autoexec": {
      "startup": false,
      "wait_interval": 0
     },
     "base_uri": "https://localhost:8080/",
     "height": 85
    },
    "colab_type": "code",
    "executionInfo": {
     "elapsed": 23936,
     "status": "ok",
     "timestamp": 1524974497505,
     "user": {
      "displayName": "Sebastian Raschka",
      "photoUrl": "//lh6.googleusercontent.com/-cxK6yOSQ6uE/AAAAAAAAAAI/AAAAAAAAIfw/P9ar_CHsKOQ/s50-c-k-no/photo.jpg",
      "userId": "118404394130788869227"
     },
     "user_tz": 240
    },
    "id": "NnT0sZIwj5wu",
    "outputId": "55aed925-d17e-4c6a-8c71-0d9b3bde5637"
   },
   "outputs": [],
   "source": [
    "##########################\n",
    "### SETTINGS\n",
    "##########################\n",
    "\n",
    "# Hyperparameters\n",
    "RANDOM_SEED = 1\n",
    "LEARNING_RATE = 0.0001\n",
    "BATCH_SIZE = 256\n",
    "NUM_EPOCHS = 40\n",
    "\n",
    "# Architecture\n",
    "NUM_CLASSES = 10\n",
    "\n",
    "# Other\n",
    "DEVICE = \"cuda:0\"\n",
    "\n",
    "set_all_seeds(RANDOM_SEED)\n",
    "\n",
    "# Deterministic behavior not yet supported by AdaptiveAvgPool2d\n",
    "#set_deterministic()"
   ]
  },
  {
   "cell_type": "markdown",
   "metadata": {},
   "source": [
    "#### Import utility functions"
   ]
  },
  {
   "cell_type": "code",
   "execution_count": 7,
   "metadata": {},
   "outputs": [
    {
     "ename": "ModuleNotFoundError",
     "evalue": "No module named 'helper_evaluate'",
     "output_type": "error",
     "traceback": [
      "\u001b[0;31m---------------------------------------------------------------------------\u001b[0m",
      "\u001b[0;31mModuleNotFoundError\u001b[0m                       Traceback (most recent call last)",
      "Cell \u001b[0;32mIn[7], line 5\u001b[0m\n\u001b[1;32m      1\u001b[0m \u001b[38;5;28;01mimport\u001b[39;00m \u001b[38;5;21;01msys\u001b[39;00m\n\u001b[1;32m      3\u001b[0m sys\u001b[38;5;241m.\u001b[39mpath\u001b[38;5;241m.\u001b[39minsert(\u001b[38;5;241m0\u001b[39m, \u001b[38;5;124m\"\u001b[39m\u001b[38;5;124m..\u001b[39m\u001b[38;5;124m\"\u001b[39m) \u001b[38;5;66;03m# to include ../helper_evaluate.py etc.\u001b[39;00m\n\u001b[0;32m----> 5\u001b[0m \u001b[38;5;28;01mfrom\u001b[39;00m \u001b[38;5;21;01mhelper_evaluate\u001b[39;00m \u001b[38;5;28;01mimport\u001b[39;00m compute_accuracy\n\u001b[1;32m      6\u001b[0m \u001b[38;5;28;01mfrom\u001b[39;00m \u001b[38;5;21;01mhelper_data\u001b[39;00m \u001b[38;5;28;01mimport\u001b[39;00m get_dataloaders_cifar10\n\u001b[1;32m      7\u001b[0m \u001b[38;5;28;01mfrom\u001b[39;00m \u001b[38;5;21;01mhelper_train\u001b[39;00m \u001b[38;5;28;01mimport\u001b[39;00m train_classifier_simple_v1\n",
      "\u001b[0;31mModuleNotFoundError\u001b[0m: No module named 'helper_evaluate'"
     ]
    }
   ],
   "source": [
    "import sys\n",
    "\n",
    "sys.path.insert(0, \"..\") # to include ../helper_evaluate.py etc.\n",
    "\n",
    "from helper_evaluate import compute_accuracy\n",
    "from helper_data import get_dataloaders_cifar10\n",
    "from helper_train import train_classifier_simple_v1"
   ]
  },
  {
   "cell_type": "markdown",
   "metadata": {},
   "source": [
    "## Dataset"
   ]
  },
  {
   "cell_type": "code",
   "execution_count": null,
   "metadata": {},
   "outputs": [
    {
     "name": "stdout",
     "output_type": "stream",
     "text": [
      "Downloading https://www.cs.toronto.edu/~kriz/cifar-10-python.tar.gz to data/cifar-10-python.tar.gz\n"
     ]
    },
    {
     "data": {
      "application/vnd.jupyter.widget-view+json": {
       "model_id": "e73f98cd265c48ca8922f5968c31d202",
       "version_major": 2,
       "version_minor": 0
      },
      "text/plain": [
       "  0%|          | 0/170498071 [00:00<?, ?it/s]"
      ]
     },
     "metadata": {},
     "output_type": "display_data"
    },
    {
     "name": "stdout",
     "output_type": "stream",
     "text": [
      "Extracting data/cifar-10-python.tar.gz to data\n"
     ]
    }
   ],
   "source": [
    "### Set random seed ###\n",
    "set_all_seeds(RANDOM_SEED)\n",
    "\n",
    "##########################\n",
    "### Dataset\n",
    "##########################\n",
    "\n",
    "train_transforms = transforms.Compose([transforms.Resize((70, 70)),\n",
    "                                       transforms.RandomCrop((64, 64)),\n",
    "                                       transforms.ToTensor()])\n",
    "\n",
    "test_transforms = transforms.Compose([transforms.Resize((70, 70)),\n",
    "                                      transforms.CenterCrop((64, 64)),\n",
    "                                      transforms.ToTensor()])\n",
    "\n",
    "\n",
    "train_loader, valid_loader, test_loader = get_dataloaders_cifar10(\n",
    "    batch_size=BATCH_SIZE, \n",
    "    num_workers=2, \n",
    "    train_transforms=train_transforms,\n",
    "    test_transforms=test_transforms,\n",
    "    validation_fraction=0.1)"
   ]
  },
  {
   "cell_type": "code",
   "execution_count": null,
   "metadata": {},
   "outputs": [
    {
     "name": "stdout",
     "output_type": "stream",
     "text": [
      "Training Set:\n",
      "\n",
      "Image batch dimensions: torch.Size([256, 3, 64, 64])\n",
      "Image label dimensions: torch.Size([256])\n",
      "tensor([0, 2, 3, 5, 4, 8, 9, 6, 9, 7])\n",
      "\n",
      "Validation Set:\n",
      "Image batch dimensions: torch.Size([256, 3, 64, 64])\n",
      "Image label dimensions: torch.Size([256])\n",
      "tensor([6, 9, 3, 5, 7, 3, 4, 1, 8, 0])\n",
      "\n",
      "Testing Set:\n",
      "Image batch dimensions: torch.Size([256, 3, 64, 64])\n",
      "Image label dimensions: torch.Size([256])\n",
      "tensor([2, 6, 3, 1, 1, 1, 1, 2, 4, 8])\n"
     ]
    }
   ],
   "source": [
    "# Checking the dataset\n",
    "print('Training Set:\\n')\n",
    "for images, labels in train_loader:  \n",
    "    print('Image batch dimensions:', images.size())\n",
    "    print('Image label dimensions:', labels.size())\n",
    "    print(labels[:10])\n",
    "    break\n",
    "    \n",
    "# Checking the dataset\n",
    "print('\\nValidation Set:')\n",
    "for images, labels in valid_loader:  \n",
    "    print('Image batch dimensions:', images.size())\n",
    "    print('Image label dimensions:', labels.size())\n",
    "    print(labels[:10])\n",
    "    break\n",
    "\n",
    "# Checking the dataset\n",
    "print('\\nTesting Set:')\n",
    "for images, labels in train_loader:  \n",
    "    print('Image batch dimensions:', images.size())\n",
    "    print('Image label dimensions:', labels.size())\n",
    "    print(labels[:10])\n",
    "    break"
   ]
  },
  {
   "cell_type": "markdown",
   "metadata": {},
   "source": [
    "## Model"
   ]
  },
  {
   "cell_type": "code",
   "execution_count": null,
   "metadata": {},
   "outputs": [],
   "source": [
    "##########################\n",
    "### MODEL\n",
    "##########################\n",
    "\n",
    "class AlexNet(nn.Module):\n",
    "\n",
    "    def __init__(self, num_classes):\n",
    "        super(AlexNet, self).__init__()\n",
    "        self.features = nn.Sequential(\n",
    "            nn.Conv2d(3, 64, kernel_size=11, stride=4, padding=2),\n",
    "            nn.ReLU(inplace=True),\n",
    "            nn.MaxPool2d(kernel_size=3, stride=2),\n",
    "            \n",
    "            nn.Conv2d(64, 192, kernel_size=5, padding=2),\n",
    "            nn.ReLU(inplace=True),\n",
    "            nn.MaxPool2d(kernel_size=3, stride=2),\n",
    "            \n",
    "            nn.Conv2d(192, 384, kernel_size=3, padding=1),\n",
    "            nn.ReLU(inplace=True),\n",
    "            \n",
    "            nn.Conv2d(384, 256, kernel_size=3, padding=1),\n",
    "            nn.ReLU(inplace=True),\n",
    "            \n",
    "            nn.Conv2d(256, 256, kernel_size=3, padding=1),\n",
    "            nn.ReLU(inplace=True),\n",
    "            nn.MaxPool2d(kernel_size=3, stride=2),\n",
    "        )\n",
    "        self.avgpool = nn.AdaptiveAvgPool2d((6, 6))\n",
    "        self.classifier = nn.Sequential(\n",
    "            nn.Dropout(0.5),\n",
    "            nn.Linear(256 * 6 * 6, 4096),\n",
    "            nn.ReLU(inplace=True),\n",
    "            nn.Dropout(0.5),\n",
    "            nn.Linear(4096, 4096),\n",
    "            nn.ReLU(inplace=True),\n",
    "            nn.Linear(4096, num_classes)\n",
    "        )\n",
    "\n",
    "    def forward(self, x):\n",
    "        x = self.features(x)\n",
    "        x = self.avgpool(x)\n",
    "        x = x.view(x.size(0), 256 * 6 * 6)\n",
    "        logits = self.classifier(x)\n",
    "        probas = F.softmax(logits, dim=1)\n",
    "        return logits"
   ]
  },
  {
   "cell_type": "code",
   "execution_count": null,
   "metadata": {
    "colab": {
     "autoexec": {
      "startup": false,
      "wait_interval": 0
     }
    },
    "colab_type": "code",
    "id": "_lza9t_uj5w1"
   },
   "outputs": [],
   "source": [
    "torch.manual_seed(RANDOM_SEED)\n",
    "\n",
    "model = AlexNet(NUM_CLASSES)\n",
    "model.to(DEVICE)\n",
    "\n",
    "optimizer = torch.optim.Adam(model.parameters(), lr=LEARNING_RATE)  "
   ]
  },
  {
   "cell_type": "markdown",
   "metadata": {
    "colab_type": "text",
    "id": "RAodboScj5w6"
   },
   "source": [
    "## Training"
   ]
  },
  {
   "cell_type": "code",
   "execution_count": null,
   "metadata": {
    "colab": {
     "autoexec": {
      "startup": false,
      "wait_interval": 0
     },
     "base_uri": "https://localhost:8080/",
     "height": 1547
    },
    "colab_type": "code",
    "executionInfo": {
     "elapsed": 2384585,
     "status": "ok",
     "timestamp": 1524976888520,
     "user": {
      "displayName": "Sebastian Raschka",
      "photoUrl": "//lh6.googleusercontent.com/-cxK6yOSQ6uE/AAAAAAAAAAI/AAAAAAAAIfw/P9ar_CHsKOQ/s50-c-k-no/photo.jpg",
      "userId": "118404394130788869227"
     },
     "user_tz": 240
    },
    "id": "Dzh3ROmRj5w7",
    "outputId": "5f8fd8c9-b076-403a-b0b7-fd2d498b48d7"
   },
   "outputs": [
    {
     "name": "stdout",
     "output_type": "stream",
     "text": [
      "Epoch: 001/040 | Batch 0000/0175 | Loss: 2.3033\n",
      "Epoch: 001/040 | Batch 0050/0175 | Loss: 2.0240\n",
      "Epoch: 001/040 | Batch 0100/0175 | Loss: 1.9445\n",
      "Epoch: 001/040 | Batch 0150/0175 | Loss: 1.8135\n",
      "***Epoch: 001/040 | Train. Acc.: 33.674% | Loss: 1.703\n",
      "***Epoch: 001/040 | Valid. Acc.: 34.880% | Loss: 1.670\n",
      "Time elapsed: 1.05 min\n",
      "Epoch: 002/040 | Batch 0000/0175 | Loss: 1.7606\n",
      "Epoch: 002/040 | Batch 0050/0175 | Loss: 1.5473\n",
      "Epoch: 002/040 | Batch 0100/0175 | Loss: 1.5496\n",
      "Epoch: 002/040 | Batch 0150/0175 | Loss: 1.5093\n",
      "***Epoch: 002/040 | Train. Acc.: 42.819% | Loss: 1.505\n",
      "***Epoch: 002/040 | Valid. Acc.: 43.840% | Loss: 1.491\n",
      "Time elapsed: 2.09 min\n",
      "Epoch: 003/040 | Batch 0000/0175 | Loss: 1.5411\n",
      "Epoch: 003/040 | Batch 0050/0175 | Loss: 1.5485\n",
      "Epoch: 003/040 | Batch 0100/0175 | Loss: 1.3723\n",
      "Epoch: 003/040 | Batch 0150/0175 | Loss: 1.3084\n",
      "***Epoch: 003/040 | Train. Acc.: 49.712% | Loss: 1.336\n",
      "***Epoch: 003/040 | Valid. Acc.: 50.300% | Loss: 1.327\n",
      "Time elapsed: 3.12 min\n",
      "Epoch: 004/040 | Batch 0000/0175 | Loss: 1.4301\n",
      "Epoch: 004/040 | Batch 0050/0175 | Loss: 1.4117\n",
      "Epoch: 004/040 | Batch 0100/0175 | Loss: 1.2894\n",
      "Epoch: 004/040 | Batch 0150/0175 | Loss: 1.1508\n",
      "***Epoch: 004/040 | Train. Acc.: 54.138% | Loss: 1.231\n",
      "***Epoch: 004/040 | Valid. Acc.: 54.300% | Loss: 1.226\n",
      "Time elapsed: 4.16 min\n",
      "Epoch: 005/040 | Batch 0000/0175 | Loss: 1.1781\n",
      "Epoch: 005/040 | Batch 0050/0175 | Loss: 1.2942\n",
      "Epoch: 005/040 | Batch 0100/0175 | Loss: 1.3343\n",
      "Epoch: 005/040 | Batch 0150/0175 | Loss: 1.1216\n",
      "***Epoch: 005/040 | Train. Acc.: 58.536% | Loss: 1.139\n",
      "***Epoch: 005/040 | Valid. Acc.: 58.220% | Loss: 1.152\n",
      "Time elapsed: 5.23 min\n",
      "Epoch: 006/040 | Batch 0000/0175 | Loss: 1.1030\n",
      "Epoch: 006/040 | Batch 0050/0175 | Loss: 1.1732\n",
      "Epoch: 006/040 | Batch 0100/0175 | Loss: 1.1508\n",
      "Epoch: 006/040 | Batch 0150/0175 | Loss: 1.0059\n",
      "***Epoch: 006/040 | Train. Acc.: 58.882% | Loss: 1.132\n",
      "***Epoch: 006/040 | Valid. Acc.: 58.600% | Loss: 1.158\n",
      "Time elapsed: 6.28 min\n",
      "Epoch: 007/040 | Batch 0000/0175 | Loss: 1.0091\n",
      "Epoch: 007/040 | Batch 0050/0175 | Loss: 1.2888\n",
      "Epoch: 007/040 | Batch 0100/0175 | Loss: 1.0148\n",
      "Epoch: 007/040 | Batch 0150/0175 | Loss: 1.0491\n",
      "***Epoch: 007/040 | Train. Acc.: 65.203% | Loss: 0.966\n",
      "***Epoch: 007/040 | Valid. Acc.: 63.880% | Loss: 1.007\n",
      "Time elapsed: 7.31 min\n",
      "Epoch: 008/040 | Batch 0000/0175 | Loss: 0.8920\n",
      "Epoch: 008/040 | Batch 0050/0175 | Loss: 0.9769\n",
      "Epoch: 008/040 | Batch 0100/0175 | Loss: 1.0159\n",
      "Epoch: 008/040 | Batch 0150/0175 | Loss: 1.0733\n",
      "***Epoch: 008/040 | Train. Acc.: 67.181% | Loss: 0.920\n",
      "***Epoch: 008/040 | Valid. Acc.: 65.020% | Loss: 0.974\n",
      "Time elapsed: 8.35 min\n",
      "Epoch: 009/040 | Batch 0000/0175 | Loss: 0.9276\n",
      "Epoch: 009/040 | Batch 0050/0175 | Loss: 0.8630\n",
      "Epoch: 009/040 | Batch 0100/0175 | Loss: 1.1130\n",
      "Epoch: 009/040 | Batch 0150/0175 | Loss: 0.9105\n",
      "***Epoch: 009/040 | Train. Acc.: 66.795% | Loss: 0.920\n",
      "***Epoch: 009/040 | Valid. Acc.: 64.980% | Loss: 0.984\n",
      "Time elapsed: 9.38 min\n",
      "Epoch: 010/040 | Batch 0000/0175 | Loss: 0.8506\n",
      "Epoch: 010/040 | Batch 0050/0175 | Loss: 0.7531\n",
      "Epoch: 010/040 | Batch 0100/0175 | Loss: 0.9312\n",
      "Epoch: 010/040 | Batch 0150/0175 | Loss: 0.9103\n",
      "***Epoch: 010/040 | Train. Acc.: 70.491% | Loss: 0.832\n",
      "***Epoch: 010/040 | Valid. Acc.: 67.560% | Loss: 0.934\n",
      "Time elapsed: 10.42 min\n",
      "Epoch: 011/040 | Batch 0000/0175 | Loss: 0.8196\n",
      "Epoch: 011/040 | Batch 0050/0175 | Loss: 0.7955\n",
      "Epoch: 011/040 | Batch 0100/0175 | Loss: 0.9367\n",
      "Epoch: 011/040 | Batch 0150/0175 | Loss: 0.7501\n",
      "***Epoch: 011/040 | Train. Acc.: 70.826% | Loss: 0.819\n",
      "***Epoch: 011/040 | Valid. Acc.: 66.220% | Loss: 0.950\n",
      "Time elapsed: 11.50 min\n",
      "Epoch: 012/040 | Batch 0000/0175 | Loss: 0.7863\n",
      "Epoch: 012/040 | Batch 0050/0175 | Loss: 0.8496\n",
      "Epoch: 012/040 | Batch 0100/0175 | Loss: 0.7997\n",
      "Epoch: 012/040 | Batch 0150/0175 | Loss: 0.9733\n",
      "***Epoch: 012/040 | Train. Acc.: 73.600% | Loss: 0.757\n",
      "***Epoch: 012/040 | Valid. Acc.: 68.640% | Loss: 0.901\n",
      "Time elapsed: 12.72 min\n",
      "Epoch: 013/040 | Batch 0000/0175 | Loss: 0.8286\n",
      "Epoch: 013/040 | Batch 0050/0175 | Loss: 0.8397\n",
      "Epoch: 013/040 | Batch 0100/0175 | Loss: 0.7478\n",
      "Epoch: 013/040 | Batch 0150/0175 | Loss: 0.8451\n",
      "***Epoch: 013/040 | Train. Acc.: 76.750% | Loss: 0.672\n",
      "***Epoch: 013/040 | Valid. Acc.: 70.260% | Loss: 0.848\n",
      "Time elapsed: 13.96 min\n",
      "Epoch: 014/040 | Batch 0000/0175 | Loss: 0.6818\n",
      "Epoch: 014/040 | Batch 0050/0175 | Loss: 0.7883\n",
      "Epoch: 014/040 | Batch 0100/0175 | Loss: 0.7845\n",
      "Epoch: 014/040 | Batch 0150/0175 | Loss: 0.6714\n",
      "***Epoch: 014/040 | Train. Acc.: 76.462% | Loss: 0.669\n",
      "***Epoch: 014/040 | Valid. Acc.: 69.560% | Loss: 0.876\n",
      "Time elapsed: 15.17 min\n",
      "Epoch: 015/040 | Batch 0000/0175 | Loss: 0.7720\n",
      "Epoch: 015/040 | Batch 0050/0175 | Loss: 0.7569\n",
      "Epoch: 015/040 | Batch 0100/0175 | Loss: 0.6428\n",
      "Epoch: 015/040 | Batch 0150/0175 | Loss: 0.7415\n",
      "***Epoch: 015/040 | Train. Acc.: 78.196% | Loss: 0.622\n",
      "***Epoch: 015/040 | Valid. Acc.: 70.460% | Loss: 0.852\n",
      "Time elapsed: 16.39 min\n",
      "Epoch: 016/040 | Batch 0000/0175 | Loss: 0.6150\n",
      "Epoch: 016/040 | Batch 0050/0175 | Loss: 0.7300\n",
      "Epoch: 016/040 | Batch 0100/0175 | Loss: 0.4870\n",
      "Epoch: 016/040 | Batch 0150/0175 | Loss: 0.6177\n",
      "***Epoch: 016/040 | Train. Acc.: 80.033% | Loss: 0.571\n",
      "***Epoch: 016/040 | Valid. Acc.: 71.500% | Loss: 0.832\n",
      "Time elapsed: 17.62 min\n",
      "Epoch: 017/040 | Batch 0000/0175 | Loss: 0.6556\n",
      "Epoch: 017/040 | Batch 0050/0175 | Loss: 0.6564\n",
      "Epoch: 017/040 | Batch 0100/0175 | Loss: 0.5505\n",
      "Epoch: 017/040 | Batch 0150/0175 | Loss: 0.6272\n",
      "***Epoch: 017/040 | Train. Acc.: 81.415% | Loss: 0.532\n",
      "***Epoch: 017/040 | Valid. Acc.: 71.980% | Loss: 0.836\n",
      "Time elapsed: 18.80 min\n",
      "Epoch: 018/040 | Batch 0000/0175 | Loss: 0.5772\n",
      "Epoch: 018/040 | Batch 0050/0175 | Loss: 0.4951\n",
      "Epoch: 018/040 | Batch 0100/0175 | Loss: 0.4850\n",
      "Epoch: 018/040 | Batch 0150/0175 | Loss: 0.6942\n",
      "***Epoch: 018/040 | Train. Acc.: 82.944% | Loss: 0.486\n",
      "***Epoch: 018/040 | Valid. Acc.: 71.520% | Loss: 0.839\n",
      "Time elapsed: 19.84 min\n",
      "Epoch: 019/040 | Batch 0000/0175 | Loss: 0.4757\n",
      "Epoch: 019/040 | Batch 0050/0175 | Loss: 0.4909\n",
      "Epoch: 019/040 | Batch 0100/0175 | Loss: 0.5568\n",
      "Epoch: 019/040 | Batch 0150/0175 | Loss: 0.5895\n",
      "***Epoch: 019/040 | Train. Acc.: 81.592% | Loss: 0.515\n",
      "***Epoch: 019/040 | Valid. Acc.: 70.840% | Loss: 0.911\n",
      "Time elapsed: 20.87 min\n",
      "Epoch: 020/040 | Batch 0000/0175 | Loss: 0.5108\n",
      "Epoch: 020/040 | Batch 0050/0175 | Loss: 0.5133\n",
      "Epoch: 020/040 | Batch 0100/0175 | Loss: 0.4775\n",
      "Epoch: 020/040 | Batch 0150/0175 | Loss: 0.5364\n",
      "***Epoch: 020/040 | Train. Acc.: 85.272% | Loss: 0.431\n",
      "***Epoch: 020/040 | Valid. Acc.: 72.240% | Loss: 0.850\n",
      "Time elapsed: 21.89 min\n",
      "Epoch: 021/040 | Batch 0000/0175 | Loss: 0.4184\n",
      "Epoch: 021/040 | Batch 0050/0175 | Loss: 0.5490\n",
      "Epoch: 021/040 | Batch 0100/0175 | Loss: 0.4124\n",
      "Epoch: 021/040 | Batch 0150/0175 | Loss: 0.3877\n",
      "***Epoch: 021/040 | Train. Acc.: 86.616% | Loss: 0.384\n",
      "***Epoch: 021/040 | Valid. Acc.: 72.900% | Loss: 0.850\n",
      "Time elapsed: 22.93 min\n",
      "Epoch: 022/040 | Batch 0000/0175 | Loss: 0.3587\n",
      "Epoch: 022/040 | Batch 0050/0175 | Loss: 0.4164\n",
      "Epoch: 022/040 | Batch 0100/0175 | Loss: 0.4908\n",
      "Epoch: 022/040 | Batch 0150/0175 | Loss: 0.5300\n",
      "***Epoch: 022/040 | Train. Acc.: 87.763% | Loss: 0.353\n",
      "***Epoch: 022/040 | Valid. Acc.: 73.160% | Loss: 0.867\n",
      "Time elapsed: 23.97 min\n",
      "Epoch: 023/040 | Batch 0000/0175 | Loss: 0.3409\n",
      "Epoch: 023/040 | Batch 0050/0175 | Loss: 0.3932\n",
      "Epoch: 023/040 | Batch 0100/0175 | Loss: 0.4906\n",
      "Epoch: 023/040 | Batch 0150/0175 | Loss: 0.3842\n",
      "***Epoch: 023/040 | Train. Acc.: 88.516% | Loss: 0.325\n",
      "***Epoch: 023/040 | Valid. Acc.: 72.940% | Loss: 0.867\n",
      "Time elapsed: 25.01 min\n",
      "Epoch: 024/040 | Batch 0000/0175 | Loss: 0.3903\n",
      "Epoch: 024/040 | Batch 0050/0175 | Loss: 0.4127\n",
      "Epoch: 024/040 | Batch 0100/0175 | Loss: 0.3478\n",
      "Epoch: 024/040 | Batch 0150/0175 | Loss: 0.4306\n",
      "***Epoch: 024/040 | Train. Acc.: 90.315% | Loss: 0.284\n",
      "***Epoch: 024/040 | Valid. Acc.: 73.220% | Loss: 0.911\n",
      "Time elapsed: 26.04 min\n",
      "Epoch: 025/040 | Batch 0000/0175 | Loss: 0.2716\n",
      "Epoch: 025/040 | Batch 0050/0175 | Loss: 0.3371\n",
      "Epoch: 025/040 | Batch 0100/0175 | Loss: 0.4309\n",
      "Epoch: 025/040 | Batch 0150/0175 | Loss: 0.4343\n",
      "***Epoch: 025/040 | Train. Acc.: 88.908% | Loss: 0.311\n",
      "***Epoch: 025/040 | Valid. Acc.: 73.000% | Loss: 0.909\n",
      "Time elapsed: 27.07 min\n",
      "Epoch: 026/040 | Batch 0000/0175 | Loss: 0.2467\n",
      "Epoch: 026/040 | Batch 0050/0175 | Loss: 0.2832\n",
      "Epoch: 026/040 | Batch 0100/0175 | Loss: 0.3431\n",
      "Epoch: 026/040 | Batch 0150/0175 | Loss: 0.3218\n",
      "***Epoch: 026/040 | Train. Acc.: 90.547% | Loss: 0.272\n",
      "***Epoch: 026/040 | Valid. Acc.: 72.900% | Loss: 0.925\n",
      "Time elapsed: 28.10 min\n",
      "Epoch: 027/040 | Batch 0000/0175 | Loss: 0.3064\n",
      "Epoch: 027/040 | Batch 0050/0175 | Loss: 0.2874\n",
      "Epoch: 027/040 | Batch 0100/0175 | Loss: 0.3545\n",
      "Epoch: 027/040 | Batch 0150/0175 | Loss: 0.3866\n",
      "***Epoch: 027/040 | Train. Acc.: 92.277% | Loss: 0.230\n",
      "***Epoch: 027/040 | Valid. Acc.: 73.760% | Loss: 0.935\n",
      "Time elapsed: 29.13 min\n",
      "Epoch: 028/040 | Batch 0000/0175 | Loss: 0.1964\n",
      "Epoch: 028/040 | Batch 0050/0175 | Loss: 0.2317\n",
      "Epoch: 028/040 | Batch 0100/0175 | Loss: 0.2595\n",
      "Epoch: 028/040 | Batch 0150/0175 | Loss: 0.3056\n",
      "***Epoch: 028/040 | Train. Acc.: 92.049% | Loss: 0.225\n",
      "***Epoch: 028/040 | Valid. Acc.: 73.340% | Loss: 0.994\n",
      "Time elapsed: 30.16 min\n",
      "Epoch: 029/040 | Batch 0000/0175 | Loss: 0.2118\n",
      "Epoch: 029/040 | Batch 0050/0175 | Loss: 0.2198\n",
      "Epoch: 029/040 | Batch 0100/0175 | Loss: 0.2389\n",
      "Epoch: 029/040 | Batch 0150/0175 | Loss: 0.3052\n",
      "***Epoch: 029/040 | Train. Acc.: 93.170% | Loss: 0.198\n",
      "***Epoch: 029/040 | Valid. Acc.: 73.520% | Loss: 1.004\n",
      "Time elapsed: 31.20 min\n",
      "Epoch: 030/040 | Batch 0000/0175 | Loss: 0.1664\n",
      "Epoch: 030/040 | Batch 0050/0175 | Loss: 0.1880\n",
      "Epoch: 030/040 | Batch 0100/0175 | Loss: 0.1938\n",
      "Epoch: 030/040 | Batch 0150/0175 | Loss: 0.2032\n",
      "***Epoch: 030/040 | Train. Acc.: 93.333% | Loss: 0.188\n",
      "***Epoch: 030/040 | Valid. Acc.: 72.820% | Loss: 1.061\n",
      "Time elapsed: 32.23 min\n",
      "Epoch: 031/040 | Batch 0000/0175 | Loss: 0.2679\n",
      "Epoch: 031/040 | Batch 0050/0175 | Loss: 0.2778\n",
      "Epoch: 031/040 | Batch 0100/0175 | Loss: 0.2026\n",
      "Epoch: 031/040 | Batch 0150/0175 | Loss: 0.2144\n",
      "***Epoch: 031/040 | Train. Acc.: 94.058% | Loss: 0.170\n",
      "***Epoch: 031/040 | Valid. Acc.: 73.500% | Loss: 1.044\n",
      "Time elapsed: 33.27 min\n",
      "Epoch: 032/040 | Batch 0000/0175 | Loss: 0.1634\n",
      "Epoch: 032/040 | Batch 0050/0175 | Loss: 0.2475\n",
      "Epoch: 032/040 | Batch 0100/0175 | Loss: 0.1528\n",
      "Epoch: 032/040 | Batch 0150/0175 | Loss: 0.2810\n",
      "***Epoch: 032/040 | Train. Acc.: 94.471% | Loss: 0.161\n",
      "***Epoch: 032/040 | Valid. Acc.: 73.000% | Loss: 1.065\n",
      "Time elapsed: 34.32 min\n",
      "Epoch: 033/040 | Batch 0000/0175 | Loss: 0.2095\n",
      "Epoch: 033/040 | Batch 0050/0175 | Loss: 0.1590\n",
      "Epoch: 033/040 | Batch 0100/0175 | Loss: 0.1752\n",
      "Epoch: 033/040 | Batch 0150/0175 | Loss: 0.2319\n",
      "***Epoch: 033/040 | Train. Acc.: 95.118% | Loss: 0.141\n",
      "***Epoch: 033/040 | Valid. Acc.: 73.440% | Loss: 1.075\n",
      "Time elapsed: 35.35 min\n",
      "Epoch: 034/040 | Batch 0000/0175 | Loss: 0.1156\n",
      "Epoch: 034/040 | Batch 0050/0175 | Loss: 0.1456\n",
      "Epoch: 034/040 | Batch 0100/0175 | Loss: 0.1519\n",
      "Epoch: 034/040 | Batch 0150/0175 | Loss: 0.1831\n",
      "***Epoch: 034/040 | Train. Acc.: 95.286% | Loss: 0.142\n",
      "***Epoch: 034/040 | Valid. Acc.: 73.820% | Loss: 1.064\n",
      "Time elapsed: 36.40 min\n",
      "Epoch: 035/040 | Batch 0000/0175 | Loss: 0.1532\n",
      "Epoch: 035/040 | Batch 0050/0175 | Loss: 0.1267\n",
      "Epoch: 035/040 | Batch 0100/0175 | Loss: 0.1633\n",
      "Epoch: 035/040 | Batch 0150/0175 | Loss: 0.1263\n",
      "***Epoch: 035/040 | Train. Acc.: 94.638% | Loss: 0.154\n",
      "***Epoch: 035/040 | Valid. Acc.: 73.440% | Loss: 1.093\n",
      "Time elapsed: 37.43 min\n",
      "Epoch: 036/040 | Batch 0000/0175 | Loss: 0.1787\n",
      "Epoch: 036/040 | Batch 0050/0175 | Loss: 0.1622\n",
      "Epoch: 036/040 | Batch 0100/0175 | Loss: 0.1840\n",
      "Epoch: 036/040 | Batch 0150/0175 | Loss: 0.1143\n",
      "***Epoch: 036/040 | Train. Acc.: 95.480% | Loss: 0.132\n",
      "***Epoch: 036/040 | Valid. Acc.: 73.020% | Loss: 1.159\n",
      "Time elapsed: 38.46 min\n",
      "Epoch: 037/040 | Batch 0000/0175 | Loss: 0.1282\n",
      "Epoch: 037/040 | Batch 0050/0175 | Loss: 0.1299\n",
      "Epoch: 037/040 | Batch 0100/0175 | Loss: 0.1869\n",
      "Epoch: 037/040 | Batch 0150/0175 | Loss: 0.1387\n",
      "***Epoch: 037/040 | Train. Acc.: 95.129% | Loss: 0.138\n",
      "***Epoch: 037/040 | Valid. Acc.: 72.640% | Loss: 1.174\n",
      "Time elapsed: 39.50 min\n",
      "Epoch: 038/040 | Batch 0000/0175 | Loss: 0.1137\n",
      "Epoch: 038/040 | Batch 0050/0175 | Loss: 0.1053\n",
      "Epoch: 038/040 | Batch 0100/0175 | Loss: 0.1298\n",
      "Epoch: 038/040 | Batch 0150/0175 | Loss: 0.1280\n",
      "***Epoch: 038/040 | Train. Acc.: 95.429% | Loss: 0.134\n",
      "***Epoch: 038/040 | Valid. Acc.: 73.040% | Loss: 1.230\n",
      "Time elapsed: 40.53 min\n",
      "Epoch: 039/040 | Batch 0000/0175 | Loss: 0.1410\n",
      "Epoch: 039/040 | Batch 0050/0175 | Loss: 0.1084\n",
      "Epoch: 039/040 | Batch 0100/0175 | Loss: 0.1578\n",
      "Epoch: 039/040 | Batch 0150/0175 | Loss: 0.1516\n",
      "***Epoch: 039/040 | Train. Acc.: 97.002% | Loss: 0.090\n",
      "***Epoch: 039/040 | Valid. Acc.: 73.420% | Loss: 1.159\n",
      "Time elapsed: 41.57 min\n",
      "Epoch: 040/040 | Batch 0000/0175 | Loss: 0.1143\n",
      "Epoch: 040/040 | Batch 0050/0175 | Loss: 0.1153\n",
      "Epoch: 040/040 | Batch 0100/0175 | Loss: 0.1493\n",
      "Epoch: 040/040 | Batch 0150/0175 | Loss: 0.2771\n",
      "***Epoch: 040/040 | Train. Acc.: 96.071% | Loss: 0.111\n",
      "***Epoch: 040/040 | Valid. Acc.: 73.520% | Loss: 1.218\n",
      "Time elapsed: 42.61 min\n",
      "Total Training Time: 42.61 min\n"
     ]
    }
   ],
   "source": [
    "log_dict = train_classifier_simple_v1(num_epochs=NUM_EPOCHS, model=model, \n",
    "                                      optimizer=optimizer, device=DEVICE, \n",
    "                                      train_loader=train_loader, valid_loader=valid_loader, \n",
    "                                      logging_interval=50)"
   ]
  },
  {
   "cell_type": "markdown",
   "metadata": {},
   "source": [
    "## Evaluation"
   ]
  },
  {
   "cell_type": "code",
   "execution_count": null,
   "metadata": {},
   "outputs": [],
   "source": [
    "import matplotlib.pyplot as plt\n",
    "%matplotlib inline\n"
   ]
  },
  {
   "cell_type": "code",
   "execution_count": null,
   "metadata": {},
   "outputs": [
    {
     "data": {
      "image/png": "[encoded data removed]",
      "text/plain": [
       "<Figure size 432x288 with 1 Axes>"
      ]
     },
     "metadata": {
      "needs_background": "light"
     },
     "output_type": "display_data"
    }
   ],
   "source": [
    "loss_list = log_dict['train_loss_per_batch']\n",
    "\n",
    "plt.plot(loss_list, label='Minibatch loss')\n",
    "plt.plot(np.convolve(loss_list, \n",
    "                     np.ones(200,)/200, mode='valid'), \n",
    "         label='Running average')\n",
    "\n",
    "plt.ylabel('Cross Entropy')\n",
    "plt.xlabel('Iteration')\n",
    "plt.legend()\n",
    "plt.show()"
   ]
  },
  {
   "cell_type": "code",
   "execution_count": null,
   "metadata": {},
   "outputs": [
    {
     "data": {
      "image/png": "[encoded data removed]",
      "text/plain": [
       "<Figure size 432x288 with 1 Axes>"
      ]
     },
     "metadata": {
      "needs_background": "light"
     },
     "output_type": "display_data"
    }
   ],
   "source": [
    "plt.plot(np.arange(1, NUM_EPOCHS+1), log_dict['train_acc_per_epoch'], label='Training')\n",
    "plt.plot(np.arange(1, NUM_EPOCHS+1), log_dict['valid_acc_per_epoch'], label='Validation')\n",
    "\n",
    "plt.xlabel('Epoch')\n",
    "plt.ylabel('Accuracy')\n",
    "plt.legend()\n",
    "plt.show()"
   ]
  },
  {
   "cell_type": "code",
   "execution_count": null,
   "metadata": {},
   "outputs": [
    {
     "name": "stdout",
     "output_type": "stream",
     "text": [
      "Train ACC: 73.52%\n",
      "Validation ACC: 73.52%\n",
      "Test ACC: 72.11%\n"
     ]
    }
   ],
   "source": [
    "with torch.set_grad_enabled(False):\n",
    "    \n",
    "    train_acc = compute_accuracy(model=model,\n",
    "                                 data_loader=test_loader,\n",
    "                                 device=DEVICE)\n",
    "    \n",
    "    test_acc = compute_accuracy(model=model,\n",
    "                                data_loader=test_loader,\n",
    "                                device=DEVICE)\n",
    "    \n",
    "    valid_acc = compute_accuracy(model=model,\n",
    "                                 data_loader=valid_loader,\n",
    "                                 device=DEVICE)\n",
    "    \n",
    "\n",
    "print(f'Train ACC: {valid_acc:.2f}%')\n",
    "print(f'Validation ACC: {valid_acc:.2f}%')\n",
    "print(f'Test ACC: {test_acc:.2f}%')"
   ]
  },
  {
   "cell_type": "code",
   "execution_count": null,
   "metadata": {},
   "outputs": [
    {
     "name": "stdout",
     "output_type": "stream",
     "text": [
      "sys        : 3.8.12 | packaged by conda-forge | (default, Oct 12 2021, 21:59:51) \n",
      "[GCC 9.4.0]\n",
      "matplotlib : 3.3.4\n",
      "PIL        : 9.0.1\n",
      "torchvision: 0.11.2\n",
      "numpy      : 1.22.0\n",
      "torch      : 1.10.1\n",
      "pandas     : 1.4.1\n",
      "\n"
     ]
    }
   ],
   "source": [
    "%watermark -iv"
   ]
  },
  {
   "cell_type": "code",
   "execution_count": null,
   "metadata": {},
   "outputs": [],
   "source": []
  }
 ],
 "metadata": {
  "accelerator": "GPU",
  "colab": {
   "collapsed_sections": [],
   "default_view": {},
   "name": "convnet-vgg16.ipynb",
   "provenance": [],
   "version": "0.3.2",
   "views": {}
  },
  "kernelspec": {
   "display_name": "Python 3 (ipykernel)",
   "language": "python",
   "name": "python3"
  },
  "language_info": {
   "codemirror_mode": {
    "name": "ipython",
    "version": 3
   },
   "file_extension": ".py",
   "mimetype": "text/x-python",
   "name": "python",
   "nbconvert_exporter": "python",
   "pygments_lexer": "ipython3",
   "version": "3.11.3"
  },
  "toc": {
   "nav_menu": {},
   "number_sections": true,
   "sideBar": true,
   "skip_h1_title": false,
   "title_cell": "Table of Contents",
   "title_sidebar": "Contents",
   "toc_cell": true,
   "toc_position": {
    "height": "calc(100% - 180px)",
    "left": "10px",
    "top": "150px",
    "width": "371px"
   },
   "toc_section_display": true,
   "toc_window_display": true
  }
 },
 "nbformat": 4,
 "nbformat_minor": 4
}
